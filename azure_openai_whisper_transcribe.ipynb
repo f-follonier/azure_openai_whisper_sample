{
 "cells": [
  {
   "cell_type": "markdown",
   "metadata": {},
   "source": [
    "# Request to Azure OpenAI Whisper Model for Transcription"
   ]
  },
  {
   "cell_type": "code",
   "execution_count": null,
   "metadata": {},
   "outputs": [],
   "source": [
    "import requests\n",
    "\n",
    "# Endpoint and API Key\n",
    "AZURE_OPENAI_ENDPOINT = \"Your OpenAI Endpoint\" \n",
    "DEPLOYMENT_NAME = \"your whisper model deployment name\"\n",
    "API_VERSION = \"2023-09-01-preview\"\n",
    "AZURE_OPENAI_KEY = \"your openai api key\"\n",
    "\n",
    "# Set up the URL\n",
    "url = f\"{AZURE_OPENAI_ENDPOINT}openai/deployments/{DEPLOYMENT_NAME}/audio/transcriptions?api-version={API_VERSION}\"\n",
    "print(url)\n",
    "\n",
    "# Set up the headers\n",
    "headers = {\n",
    "    \"api-key\": AZURE_OPENAI_KEY\n",
    "}\n",
    "\n",
    "# Set up the file to send\n",
    "files = {\n",
    "    'file': ('wikipediaOcelot.wav', open('./sample_data/wikipediaOcelot.wav', 'rb'))\n",
    "}\n",
    "\n",
    "# Make the request\n",
    "response = requests.post(url, headers=headers, files=files)\n",
    "\n",
    "# Print the response\n",
    "print(response.text)\n"
   ]
  }
 ],
 "metadata": {
  "kernelspec": {
   "display_name": "basee",
   "language": "python",
   "name": "python3"
  },
  "language_info": {
   "codemirror_mode": {
    "name": "ipython",
    "version": 3
   },
   "file_extension": ".py",
   "mimetype": "text/x-python",
   "name": "python",
   "nbconvert_exporter": "python",
   "pygments_lexer": "ipython3",
   "version": "3.9.13"
  },
  "orig_nbformat": 4
 },
 "nbformat": 4,
 "nbformat_minor": 2
}
